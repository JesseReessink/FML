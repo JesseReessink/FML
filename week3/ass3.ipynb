{
 "cells": [
  {
   "cell_type": "code",
   "execution_count": 18,
   "metadata": {},
   "outputs": [],
   "source": [
    "import seaborn as sns\n",
    "import pandas as pd\n",
    "import matplotlib.pyplot as plt\n",
    "import math\n",
    "from sklearn.linear_model import LinearRegression\n",
    "from sklearn.model_selection import train_test_split\n",
    "from sklearn.metrics import mean_squared_error\n",
    "from sklearn.metrics import r2_score"
   ]
  },
  {
   "cell_type": "markdown",
   "metadata": {},
   "source": [
    "# Explain briefly in your own words how linear regression works\n"
   ]
  },
  {
   "cell_type": "markdown",
   "metadata": {},
   "source": [
    "##### a linear regression is a predictive analysis that exist of a dependent variable and a independepel variable. The  idea of linear regression is to examine two things. The model predicts the relation between at least 2 varibles. The outcome is always linair. "
   ]
  },
  {
   "cell_type": "code",
   "execution_count": 19,
   "metadata": {},
   "outputs": [
    {
     "data": {
      "text/html": [
       "<div>\n",
       "<style scoped>\n",
       "    .dataframe tbody tr th:only-of-type {\n",
       "        vertical-align: middle;\n",
       "    }\n",
       "\n",
       "    .dataframe tbody tr th {\n",
       "        vertical-align: top;\n",
       "    }\n",
       "\n",
       "    .dataframe thead th {\n",
       "        text-align: right;\n",
       "    }\n",
       "</style>\n",
       "<table border=\"1\" class=\"dataframe\">\n",
       "  <thead>\n",
       "    <tr style=\"text-align: right;\">\n",
       "      <th></th>\n",
       "      <th>id</th>\n",
       "      <th>url</th>\n",
       "      <th>n_tokens_title</th>\n",
       "      <th>n_tokens_content</th>\n",
       "      <th>num_imgs</th>\n",
       "      <th>num_videos</th>\n",
       "      <th>average_token_length</th>\n",
       "      <th>data_channel_is_lifestyle</th>\n",
       "      <th>data_channel_is_entertainment</th>\n",
       "      <th>data_channel_is_bus</th>\n",
       "      <th>...</th>\n",
       "      <th>weekday_is_friday</th>\n",
       "      <th>weekday_is_saturday</th>\n",
       "      <th>weekday_is_sunday</th>\n",
       "      <th>is_weekend</th>\n",
       "      <th>global_subjectivity</th>\n",
       "      <th>global_sentiment_polarity</th>\n",
       "      <th>title_subjectivity</th>\n",
       "      <th>title_sentiment_polarity</th>\n",
       "      <th>shares</th>\n",
       "      <th>shares_log</th>\n",
       "    </tr>\n",
       "  </thead>\n",
       "  <tbody>\n",
       "    <tr>\n",
       "      <td>0</td>\n",
       "      <td>1</td>\n",
       "      <td>http://mashable.com/2013/10/29/ashton-kutcher-...</td>\n",
       "      <td>10</td>\n",
       "      <td>821</td>\n",
       "      <td>12</td>\n",
       "      <td>0</td>\n",
       "      <td>4.518879</td>\n",
       "      <td>0</td>\n",
       "      <td>0</td>\n",
       "      <td>0</td>\n",
       "      <td>...</td>\n",
       "      <td>0</td>\n",
       "      <td>0</td>\n",
       "      <td>0</td>\n",
       "      <td>0</td>\n",
       "      <td>0.439379</td>\n",
       "      <td>0.082486</td>\n",
       "      <td>0.666667</td>\n",
       "      <td>0.375000</td>\n",
       "      <td>2100</td>\n",
       "      <td>3.322219</td>\n",
       "    </tr>\n",
       "    <tr>\n",
       "      <td>1</td>\n",
       "      <td>2</td>\n",
       "      <td>http://mashable.com/2014/09/08/mashies-sept-19...</td>\n",
       "      <td>9</td>\n",
       "      <td>489</td>\n",
       "      <td>6</td>\n",
       "      <td>0</td>\n",
       "      <td>5.040900</td>\n",
       "      <td>0</td>\n",
       "      <td>0</td>\n",
       "      <td>0</td>\n",
       "      <td>...</td>\n",
       "      <td>0</td>\n",
       "      <td>0</td>\n",
       "      <td>0</td>\n",
       "      <td>0</td>\n",
       "      <td>0.300454</td>\n",
       "      <td>0.027715</td>\n",
       "      <td>0.000000</td>\n",
       "      <td>0.000000</td>\n",
       "      <td>274</td>\n",
       "      <td>2.437751</td>\n",
       "    </tr>\n",
       "    <tr>\n",
       "      <td>2</td>\n",
       "      <td>3</td>\n",
       "      <td>http://mashable.com/2013/02/01/hello-kitty-roc...</td>\n",
       "      <td>11</td>\n",
       "      <td>131</td>\n",
       "      <td>0</td>\n",
       "      <td>1</td>\n",
       "      <td>4.877863</td>\n",
       "      <td>0</td>\n",
       "      <td>0</td>\n",
       "      <td>0</td>\n",
       "      <td>...</td>\n",
       "      <td>1</td>\n",
       "      <td>0</td>\n",
       "      <td>0</td>\n",
       "      <td>0</td>\n",
       "      <td>0.575486</td>\n",
       "      <td>0.259120</td>\n",
       "      <td>0.000000</td>\n",
       "      <td>0.000000</td>\n",
       "      <td>1500</td>\n",
       "      <td>3.176091</td>\n",
       "    </tr>\n",
       "    <tr>\n",
       "      <td>3</td>\n",
       "      <td>4</td>\n",
       "      <td>http://mashable.com/2014/02/06/add-us-on-snapc...</td>\n",
       "      <td>8</td>\n",
       "      <td>556</td>\n",
       "      <td>2</td>\n",
       "      <td>0</td>\n",
       "      <td>4.974820</td>\n",
       "      <td>0</td>\n",
       "      <td>0</td>\n",
       "      <td>1</td>\n",
       "      <td>...</td>\n",
       "      <td>0</td>\n",
       "      <td>0</td>\n",
       "      <td>0</td>\n",
       "      <td>0</td>\n",
       "      <td>0.327220</td>\n",
       "      <td>0.134424</td>\n",
       "      <td>0.000000</td>\n",
       "      <td>0.000000</td>\n",
       "      <td>2000</td>\n",
       "      <td>3.301030</td>\n",
       "    </tr>\n",
       "    <tr>\n",
       "      <td>4</td>\n",
       "      <td>5</td>\n",
       "      <td>http://mashable.com/2014/01/07/lindsey-vonn-wi...</td>\n",
       "      <td>9</td>\n",
       "      <td>880</td>\n",
       "      <td>18</td>\n",
       "      <td>0</td>\n",
       "      <td>4.928409</td>\n",
       "      <td>0</td>\n",
       "      <td>0</td>\n",
       "      <td>0</td>\n",
       "      <td>...</td>\n",
       "      <td>0</td>\n",
       "      <td>0</td>\n",
       "      <td>0</td>\n",
       "      <td>0</td>\n",
       "      <td>0.507709</td>\n",
       "      <td>0.109256</td>\n",
       "      <td>0.000000</td>\n",
       "      <td>0.000000</td>\n",
       "      <td>6000</td>\n",
       "      <td>3.778151</td>\n",
       "    </tr>\n",
       "    <tr>\n",
       "      <td>5</td>\n",
       "      <td>6</td>\n",
       "      <td>http://mashable.com/2014/04/24/amazing-lebron-...</td>\n",
       "      <td>13</td>\n",
       "      <td>303</td>\n",
       "      <td>2</td>\n",
       "      <td>0</td>\n",
       "      <td>4.970297</td>\n",
       "      <td>0</td>\n",
       "      <td>0</td>\n",
       "      <td>0</td>\n",
       "      <td>...</td>\n",
       "      <td>0</td>\n",
       "      <td>0</td>\n",
       "      <td>0</td>\n",
       "      <td>0</td>\n",
       "      <td>0.394298</td>\n",
       "      <td>0.048684</td>\n",
       "      <td>0.000000</td>\n",
       "      <td>0.000000</td>\n",
       "      <td>1200</td>\n",
       "      <td>3.079181</td>\n",
       "    </tr>\n",
       "    <tr>\n",
       "      <td>6</td>\n",
       "      <td>7</td>\n",
       "      <td>http://mashable.com/2013/06/22/social-media-we...</td>\n",
       "      <td>6</td>\n",
       "      <td>544</td>\n",
       "      <td>11</td>\n",
       "      <td>0</td>\n",
       "      <td>4.617647</td>\n",
       "      <td>0</td>\n",
       "      <td>0</td>\n",
       "      <td>0</td>\n",
       "      <td>...</td>\n",
       "      <td>0</td>\n",
       "      <td>1</td>\n",
       "      <td>0</td>\n",
       "      <td>1</td>\n",
       "      <td>0.439512</td>\n",
       "      <td>0.267391</td>\n",
       "      <td>0.500000</td>\n",
       "      <td>0.500000</td>\n",
       "      <td>3500</td>\n",
       "      <td>3.544068</td>\n",
       "    </tr>\n",
       "    <tr>\n",
       "      <td>7</td>\n",
       "      <td>8</td>\n",
       "      <td>http://mashable.com/2013/07/09/russian-deletes...</td>\n",
       "      <td>12</td>\n",
       "      <td>223</td>\n",
       "      <td>1</td>\n",
       "      <td>0</td>\n",
       "      <td>4.399103</td>\n",
       "      <td>0</td>\n",
       "      <td>0</td>\n",
       "      <td>0</td>\n",
       "      <td>...</td>\n",
       "      <td>0</td>\n",
       "      <td>0</td>\n",
       "      <td>0</td>\n",
       "      <td>0</td>\n",
       "      <td>0.394792</td>\n",
       "      <td>0.053125</td>\n",
       "      <td>0.218182</td>\n",
       "      <td>0.145455</td>\n",
       "      <td>1500</td>\n",
       "      <td>3.176091</td>\n",
       "    </tr>\n",
       "  </tbody>\n",
       "</table>\n",
       "<p>8 rows × 27 columns</p>\n",
       "</div>"
      ],
      "text/plain": [
       "   id                                                url  n_tokens_title  \\\n",
       "0   1  http://mashable.com/2013/10/29/ashton-kutcher-...              10   \n",
       "1   2  http://mashable.com/2014/09/08/mashies-sept-19...               9   \n",
       "2   3  http://mashable.com/2013/02/01/hello-kitty-roc...              11   \n",
       "3   4  http://mashable.com/2014/02/06/add-us-on-snapc...               8   \n",
       "4   5  http://mashable.com/2014/01/07/lindsey-vonn-wi...               9   \n",
       "5   6  http://mashable.com/2014/04/24/amazing-lebron-...              13   \n",
       "6   7  http://mashable.com/2013/06/22/social-media-we...               6   \n",
       "7   8  http://mashable.com/2013/07/09/russian-deletes...              12   \n",
       "\n",
       "   n_tokens_content  num_imgs  num_videos  average_token_length  \\\n",
       "0               821        12           0              4.518879   \n",
       "1               489         6           0              5.040900   \n",
       "2               131         0           1              4.877863   \n",
       "3               556         2           0              4.974820   \n",
       "4               880        18           0              4.928409   \n",
       "5               303         2           0              4.970297   \n",
       "6               544        11           0              4.617647   \n",
       "7               223         1           0              4.399103   \n",
       "\n",
       "   data_channel_is_lifestyle  data_channel_is_entertainment  \\\n",
       "0                          0                              0   \n",
       "1                          0                              0   \n",
       "2                          0                              0   \n",
       "3                          0                              0   \n",
       "4                          0                              0   \n",
       "5                          0                              0   \n",
       "6                          0                              0   \n",
       "7                          0                              0   \n",
       "\n",
       "   data_channel_is_bus  ...  weekday_is_friday  weekday_is_saturday  \\\n",
       "0                    0  ...                  0                    0   \n",
       "1                    0  ...                  0                    0   \n",
       "2                    0  ...                  1                    0   \n",
       "3                    1  ...                  0                    0   \n",
       "4                    0  ...                  0                    0   \n",
       "5                    0  ...                  0                    0   \n",
       "6                    0  ...                  0                    1   \n",
       "7                    0  ...                  0                    0   \n",
       "\n",
       "   weekday_is_sunday  is_weekend  global_subjectivity  \\\n",
       "0                  0           0             0.439379   \n",
       "1                  0           0             0.300454   \n",
       "2                  0           0             0.575486   \n",
       "3                  0           0             0.327220   \n",
       "4                  0           0             0.507709   \n",
       "5                  0           0             0.394298   \n",
       "6                  0           1             0.439512   \n",
       "7                  0           0             0.394792   \n",
       "\n",
       "   global_sentiment_polarity  title_subjectivity  title_sentiment_polarity  \\\n",
       "0                   0.082486            0.666667                  0.375000   \n",
       "1                   0.027715            0.000000                  0.000000   \n",
       "2                   0.259120            0.000000                  0.000000   \n",
       "3                   0.134424            0.000000                  0.000000   \n",
       "4                   0.109256            0.000000                  0.000000   \n",
       "5                   0.048684            0.000000                  0.000000   \n",
       "6                   0.267391            0.500000                  0.500000   \n",
       "7                   0.053125            0.218182                  0.145455   \n",
       "\n",
       "   shares  shares_log  \n",
       "0    2100    3.322219  \n",
       "1     274    2.437751  \n",
       "2    1500    3.176091  \n",
       "3    2000    3.301030  \n",
       "4    6000    3.778151  \n",
       "5    1200    3.079181  \n",
       "6    3500    3.544068  \n",
       "7    1500    3.176091  \n",
       "\n",
       "[8 rows x 27 columns]"
      ]
     },
     "execution_count": 19,
     "metadata": {},
     "output_type": "execute_result"
    }
   ],
   "source": [
    "df = pd.read_csv('data Mashable.csv')\n",
    "df.head(8)"
   ]
  },
  {
   "cell_type": "code",
   "execution_count": 70,
   "metadata": {},
   "outputs": [
    {
     "data": {
      "text/plain": [
       "1.0    2\n",
       "Name: global_subjectivity, dtype: int64"
      ]
     },
     "execution_count": 70,
     "metadata": {},
     "output_type": "execute_result"
    }
   ],
   "source": [
    "df['global_subjectivity'].value_counts() #I dont get why this commad does not show me all the values of global_subjectivity\n",
    "# so i don't know how to clean this data right now, because im affraid it will drop vallid numbers and only keep the 1.0"
   ]
  },
  {
   "cell_type": "code",
   "execution_count": 33,
   "metadata": {},
   "outputs": [
    {
     "data": {
      "image/png": "[encoded data removed]",
      "text/plain": [
       "<Figure size 1620x180 with 9 Axes>"
      ]
     },
     "metadata": {
      "needs_background": "light"
     },
     "output_type": "display_data"
    }
   ],
   "source": [
    "sns.pairplot(df,\n",
    "             y_vars=[\"shares_log\"],\n",
    "             x_vars=['n_tokens_title', 'num_imgs', 'num_videos', 'n_tokens_content', 'average_token_length','global_subjectivity','global_sentiment_polarity','title_subjectivity','title_sentiment_polarity'])\n",
    "plt.show()"
   ]
  },
  {
   "cell_type": "markdown",
   "metadata": {},
   "source": [
    "#### I find it difficult to find variables that collerate with shares_log, I looked at all the nominal variables  from the dataset that seems to have some colleration.I will make a subset out of it and I will add the Url for the ID later on "
   ]
  },
  {
   "cell_type": "code",
   "execution_count": 57,
   "metadata": {},
   "outputs": [
    {
     "data": {
      "text/html": [
       "<div>\n",
       "<style scoped>\n",
       "    .dataframe tbody tr th:only-of-type {\n",
       "        vertical-align: middle;\n",
       "    }\n",
       "\n",
       "    .dataframe tbody tr th {\n",
       "        vertical-align: top;\n",
       "    }\n",
       "\n",
       "    .dataframe thead th {\n",
       "        text-align: right;\n",
       "    }\n",
       "</style>\n",
       "<table border=\"1\" class=\"dataframe\">\n",
       "  <thead>\n",
       "    <tr style=\"text-align: right;\">\n",
       "      <th></th>\n",
       "      <th>n_tokens_title</th>\n",
       "      <th>num_imgs</th>\n",
       "      <th>num_videos</th>\n",
       "      <th>n_tokens_content</th>\n",
       "      <th>global_subjectivity</th>\n",
       "    </tr>\n",
       "  </thead>\n",
       "  <tbody>\n",
       "    <tr>\n",
       "      <td>0</td>\n",
       "      <td>10</td>\n",
       "      <td>12</td>\n",
       "      <td>0</td>\n",
       "      <td>821</td>\n",
       "      <td>0.439379</td>\n",
       "    </tr>\n",
       "    <tr>\n",
       "      <td>1</td>\n",
       "      <td>9</td>\n",
       "      <td>6</td>\n",
       "      <td>0</td>\n",
       "      <td>489</td>\n",
       "      <td>0.300454</td>\n",
       "    </tr>\n",
       "    <tr>\n",
       "      <td>2</td>\n",
       "      <td>11</td>\n",
       "      <td>0</td>\n",
       "      <td>1</td>\n",
       "      <td>131</td>\n",
       "      <td>0.575486</td>\n",
       "    </tr>\n",
       "    <tr>\n",
       "      <td>3</td>\n",
       "      <td>8</td>\n",
       "      <td>2</td>\n",
       "      <td>0</td>\n",
       "      <td>556</td>\n",
       "      <td>0.327220</td>\n",
       "    </tr>\n",
       "    <tr>\n",
       "      <td>4</td>\n",
       "      <td>9</td>\n",
       "      <td>18</td>\n",
       "      <td>0</td>\n",
       "      <td>880</td>\n",
       "      <td>0.507709</td>\n",
       "    </tr>\n",
       "    <tr>\n",
       "      <td>5</td>\n",
       "      <td>13</td>\n",
       "      <td>2</td>\n",
       "      <td>0</td>\n",
       "      <td>303</td>\n",
       "      <td>0.394298</td>\n",
       "    </tr>\n",
       "    <tr>\n",
       "      <td>6</td>\n",
       "      <td>6</td>\n",
       "      <td>11</td>\n",
       "      <td>0</td>\n",
       "      <td>544</td>\n",
       "      <td>0.439512</td>\n",
       "    </tr>\n",
       "    <tr>\n",
       "      <td>7</td>\n",
       "      <td>12</td>\n",
       "      <td>1</td>\n",
       "      <td>0</td>\n",
       "      <td>223</td>\n",
       "      <td>0.394792</td>\n",
       "    </tr>\n",
       "  </tbody>\n",
       "</table>\n",
       "</div>"
      ],
      "text/plain": [
       "   n_tokens_title  num_imgs  num_videos  n_tokens_content  global_subjectivity\n",
       "0              10        12           0               821             0.439379\n",
       "1               9         6           0               489             0.300454\n",
       "2              11         0           1               131             0.575486\n",
       "3               8         2           0               556             0.327220\n",
       "4               9        18           0               880             0.507709\n",
       "5              13         2           0               303             0.394298\n",
       "6               6        11           0               544             0.439512\n",
       "7              12         1           0               223             0.394792"
      ]
     },
     "execution_count": 57,
     "metadata": {},
     "output_type": "execute_result"
    }
   ],
   "source": [
    "df_subset = df[['n_tokens_title', 'num_imgs', 'num_videos', 'n_tokens_content', 'global_subjectivity']]\n",
    "df_subset.head(8)"
   ]
  },
  {
   "cell_type": "code",
   "execution_count": 58,
   "metadata": {},
   "outputs": [
    {
     "data": {
      "text/html": [
       "<div>\n",
       "<style scoped>\n",
       "    .dataframe tbody tr th:only-of-type {\n",
       "        vertical-align: middle;\n",
       "    }\n",
       "\n",
       "    .dataframe tbody tr th {\n",
       "        vertical-align: top;\n",
       "    }\n",
       "\n",
       "    .dataframe thead th {\n",
       "        text-align: right;\n",
       "    }\n",
       "</style>\n",
       "<table border=\"1\" class=\"dataframe\">\n",
       "  <thead>\n",
       "    <tr style=\"text-align: right;\">\n",
       "      <th></th>\n",
       "      <th>n_tokens_title</th>\n",
       "      <th>num_imgs</th>\n",
       "      <th>num_videos</th>\n",
       "      <th>n_tokens_content</th>\n",
       "      <th>global_subjectivity</th>\n",
       "    </tr>\n",
       "    <tr>\n",
       "      <th>url</th>\n",
       "      <th></th>\n",
       "      <th></th>\n",
       "      <th></th>\n",
       "      <th></th>\n",
       "      <th></th>\n",
       "    </tr>\n",
       "  </thead>\n",
       "  <tbody>\n",
       "    <tr>\n",
       "      <td>http://mashable.com/2013/10/29/ashton-kutcher-lenovo/</td>\n",
       "      <td>10</td>\n",
       "      <td>12</td>\n",
       "      <td>0</td>\n",
       "      <td>821</td>\n",
       "      <td>0.439379</td>\n",
       "    </tr>\n",
       "    <tr>\n",
       "      <td>http://mashable.com/2014/09/08/mashies-sept-19-deadline/</td>\n",
       "      <td>9</td>\n",
       "      <td>6</td>\n",
       "      <td>0</td>\n",
       "      <td>489</td>\n",
       "      <td>0.300454</td>\n",
       "    </tr>\n",
       "    <tr>\n",
       "      <td>http://mashable.com/2013/02/01/hello-kitty-rocket/</td>\n",
       "      <td>11</td>\n",
       "      <td>0</td>\n",
       "      <td>1</td>\n",
       "      <td>131</td>\n",
       "      <td>0.575486</td>\n",
       "    </tr>\n",
       "    <tr>\n",
       "      <td>http://mashable.com/2014/02/06/add-us-on-snapchat/</td>\n",
       "      <td>8</td>\n",
       "      <td>2</td>\n",
       "      <td>0</td>\n",
       "      <td>556</td>\n",
       "      <td>0.327220</td>\n",
       "    </tr>\n",
       "    <tr>\n",
       "      <td>http://mashable.com/2014/01/07/lindsey-vonn-withdraws-sochi-olympics-knee-injury/</td>\n",
       "      <td>9</td>\n",
       "      <td>18</td>\n",
       "      <td>0</td>\n",
       "      <td>880</td>\n",
       "      <td>0.507709</td>\n",
       "    </tr>\n",
       "  </tbody>\n",
       "</table>\n",
       "</div>"
      ],
      "text/plain": [
       "                                                    n_tokens_title  num_imgs  \\\n",
       "url                                                                            \n",
       "http://mashable.com/2013/10/29/ashton-kutcher-l...              10        12   \n",
       "http://mashable.com/2014/09/08/mashies-sept-19-...               9         6   \n",
       "http://mashable.com/2013/02/01/hello-kitty-rocket/              11         0   \n",
       "http://mashable.com/2014/02/06/add-us-on-snapchat/               8         2   \n",
       "http://mashable.com/2014/01/07/lindsey-vonn-wit...               9        18   \n",
       "\n",
       "                                                    num_videos  \\\n",
       "url                                                              \n",
       "http://mashable.com/2013/10/29/ashton-kutcher-l...           0   \n",
       "http://mashable.com/2014/09/08/mashies-sept-19-...           0   \n",
       "http://mashable.com/2013/02/01/hello-kitty-rocket/           1   \n",
       "http://mashable.com/2014/02/06/add-us-on-snapchat/           0   \n",
       "http://mashable.com/2014/01/07/lindsey-vonn-wit...           0   \n",
       "\n",
       "                                                    n_tokens_content  \\\n",
       "url                                                                    \n",
       "http://mashable.com/2013/10/29/ashton-kutcher-l...               821   \n",
       "http://mashable.com/2014/09/08/mashies-sept-19-...               489   \n",
       "http://mashable.com/2013/02/01/hello-kitty-rocket/               131   \n",
       "http://mashable.com/2014/02/06/add-us-on-snapchat/               556   \n",
       "http://mashable.com/2014/01/07/lindsey-vonn-wit...               880   \n",
       "\n",
       "                                                    global_subjectivity  \n",
       "url                                                                      \n",
       "http://mashable.com/2013/10/29/ashton-kutcher-l...             0.439379  \n",
       "http://mashable.com/2014/09/08/mashies-sept-19-...             0.300454  \n",
       "http://mashable.com/2013/02/01/hello-kitty-rocket/             0.575486  \n",
       "http://mashable.com/2014/02/06/add-us-on-snapchat/             0.327220  \n",
       "http://mashable.com/2014/01/07/lindsey-vonn-wit...             0.507709  "
      ]
     },
     "execution_count": 58,
     "metadata": {},
     "output_type": "execute_result"
    }
   ],
   "source": [
    "y = df['shares_log'] #I took Share_log instead of shares because the diffrences between the shares is sometime to big\n",
    "# for example one has 274 shares and there are some artikels with more than 30.000 shares. Share_log make it easier to \n",
    "# make sence of the data \n",
    "X = df_subset #this slices the dataframe to include all rows and the columns from \"url\" to \"title_sentiment_polarity\"\n",
    "X.index = df['url'] #this stores the artikel url in the column names, so I don't lose track of them later\n",
    "X.head() #trainset"
   ]
  },
  {
   "cell_type": "code",
   "execution_count": 59,
   "metadata": {},
   "outputs": [
    {
     "data": {
      "text/html": [
       "<div>\n",
       "<style scoped>\n",
       "    .dataframe tbody tr th:only-of-type {\n",
       "        vertical-align: middle;\n",
       "    }\n",
       "\n",
       "    .dataframe tbody tr th {\n",
       "        vertical-align: top;\n",
       "    }\n",
       "\n",
       "    .dataframe thead th {\n",
       "        text-align: right;\n",
       "    }\n",
       "</style>\n",
       "<table border=\"1\" class=\"dataframe\">\n",
       "  <thead>\n",
       "    <tr style=\"text-align: right;\">\n",
       "      <th></th>\n",
       "      <th>n_tokens_title</th>\n",
       "      <th>num_imgs</th>\n",
       "      <th>num_videos</th>\n",
       "      <th>n_tokens_content</th>\n",
       "      <th>global_subjectivity</th>\n",
       "    </tr>\n",
       "    <tr>\n",
       "      <th>url</th>\n",
       "      <th></th>\n",
       "      <th></th>\n",
       "      <th></th>\n",
       "      <th></th>\n",
       "      <th></th>\n",
       "    </tr>\n",
       "  </thead>\n",
       "  <tbody>\n",
       "    <tr>\n",
       "      <td>http://mashable.com/2013/02/03/puppy-bowl-online/</td>\n",
       "      <td>7</td>\n",
       "      <td>0</td>\n",
       "      <td>1</td>\n",
       "      <td>141</td>\n",
       "      <td>0.451711</td>\n",
       "    </tr>\n",
       "    <tr>\n",
       "      <td>http://mashable.com/2014/09/11/bridesmaid-lost-dress-sydney/</td>\n",
       "      <td>9</td>\n",
       "      <td>9</td>\n",
       "      <td>0</td>\n",
       "      <td>392</td>\n",
       "      <td>0.476976</td>\n",
       "    </tr>\n",
       "    <tr>\n",
       "      <td>http://mashable.com/2013/03/08/facebook-acquires-storylane/</td>\n",
       "      <td>9</td>\n",
       "      <td>1</td>\n",
       "      <td>0</td>\n",
       "      <td>622</td>\n",
       "      <td>0.488495</td>\n",
       "    </tr>\n",
       "    <tr>\n",
       "      <td>http://mashable.com/2014/04/29/yahoo-mail-app-redesign/</td>\n",
       "      <td>12</td>\n",
       "      <td>23</td>\n",
       "      <td>1</td>\n",
       "      <td>251</td>\n",
       "      <td>0.545746</td>\n",
       "    </tr>\n",
       "    <tr>\n",
       "      <td>http://mashable.com/2013/08/28/chef-knife-moves-video/</td>\n",
       "      <td>8</td>\n",
       "      <td>13</td>\n",
       "      <td>2</td>\n",
       "      <td>940</td>\n",
       "      <td>0.507042</td>\n",
       "    </tr>\n",
       "    <tr>\n",
       "      <td>http://mashable.com/2013/10/07/nhl-locked-bathroom-twitter/</td>\n",
       "      <td>7</td>\n",
       "      <td>1</td>\n",
       "      <td>1</td>\n",
       "      <td>452</td>\n",
       "      <td>0.456145</td>\n",
       "    </tr>\n",
       "    <tr>\n",
       "      <td>http://mashable.com/2014/04/16/kfc-double-down/</td>\n",
       "      <td>10</td>\n",
       "      <td>1</td>\n",
       "      <td>0</td>\n",
       "      <td>324</td>\n",
       "      <td>0.300000</td>\n",
       "    </tr>\n",
       "    <tr>\n",
       "      <td>http://mashable.com/2013/11/07/thorium-power-everything/</td>\n",
       "      <td>10</td>\n",
       "      <td>0</td>\n",
       "      <td>1</td>\n",
       "      <td>482</td>\n",
       "      <td>0.408417</td>\n",
       "    </tr>\n",
       "    <tr>\n",
       "      <td>http://mashable.com/2013/03/05/kickstarter-concert-tour/</td>\n",
       "      <td>11</td>\n",
       "      <td>27</td>\n",
       "      <td>1</td>\n",
       "      <td>2486</td>\n",
       "      <td>0.435746</td>\n",
       "    </tr>\n",
       "    <tr>\n",
       "      <td>http://mashable.com/2014/06/17/united-airlines-rory-mcilroy/</td>\n",
       "      <td>9</td>\n",
       "      <td>1</td>\n",
       "      <td>0</td>\n",
       "      <td>821</td>\n",
       "      <td>0.481508</td>\n",
       "    </tr>\n",
       "  </tbody>\n",
       "</table>\n",
       "</div>"
      ],
      "text/plain": [
       "                                                    n_tokens_title  num_imgs  \\\n",
       "url                                                                            \n",
       "http://mashable.com/2013/02/03/puppy-bowl-online/                7         0   \n",
       "http://mashable.com/2014/09/11/bridesmaid-lost-...               9         9   \n",
       "http://mashable.com/2013/03/08/facebook-acquire...               9         1   \n",
       "http://mashable.com/2014/04/29/yahoo-mail-app-r...              12        23   \n",
       "http://mashable.com/2013/08/28/chef-knife-moves...               8        13   \n",
       "http://mashable.com/2013/10/07/nhl-locked-bathr...               7         1   \n",
       "http://mashable.com/2014/04/16/kfc-double-down/                 10         1   \n",
       "http://mashable.com/2013/11/07/thorium-power-ev...              10         0   \n",
       "http://mashable.com/2013/03/05/kickstarter-conc...              11        27   \n",
       "http://mashable.com/2014/06/17/united-airlines-...               9         1   \n",
       "\n",
       "                                                    num_videos  \\\n",
       "url                                                              \n",
       "http://mashable.com/2013/02/03/puppy-bowl-online/            1   \n",
       "http://mashable.com/2014/09/11/bridesmaid-lost-...           0   \n",
       "http://mashable.com/2013/03/08/facebook-acquire...           0   \n",
       "http://mashable.com/2014/04/29/yahoo-mail-app-r...           1   \n",
       "http://mashable.com/2013/08/28/chef-knife-moves...           2   \n",
       "http://mashable.com/2013/10/07/nhl-locked-bathr...           1   \n",
       "http://mashable.com/2014/04/16/kfc-double-down/              0   \n",
       "http://mashable.com/2013/11/07/thorium-power-ev...           1   \n",
       "http://mashable.com/2013/03/05/kickstarter-conc...           1   \n",
       "http://mashable.com/2014/06/17/united-airlines-...           0   \n",
       "\n",
       "                                                    n_tokens_content  \\\n",
       "url                                                                    \n",
       "http://mashable.com/2013/02/03/puppy-bowl-online/                141   \n",
       "http://mashable.com/2014/09/11/bridesmaid-lost-...               392   \n",
       "http://mashable.com/2013/03/08/facebook-acquire...               622   \n",
       "http://mashable.com/2014/04/29/yahoo-mail-app-r...               251   \n",
       "http://mashable.com/2013/08/28/chef-knife-moves...               940   \n",
       "http://mashable.com/2013/10/07/nhl-locked-bathr...               452   \n",
       "http://mashable.com/2014/04/16/kfc-double-down/                  324   \n",
       "http://mashable.com/2013/11/07/thorium-power-ev...               482   \n",
       "http://mashable.com/2013/03/05/kickstarter-conc...              2486   \n",
       "http://mashable.com/2014/06/17/united-airlines-...               821   \n",
       "\n",
       "                                                    global_subjectivity  \n",
       "url                                                                      \n",
       "http://mashable.com/2013/02/03/puppy-bowl-online/              0.451711  \n",
       "http://mashable.com/2014/09/11/bridesmaid-lost-...             0.476976  \n",
       "http://mashable.com/2013/03/08/facebook-acquire...             0.488495  \n",
       "http://mashable.com/2014/04/29/yahoo-mail-app-r...             0.545746  \n",
       "http://mashable.com/2013/08/28/chef-knife-moves...             0.507042  \n",
       "http://mashable.com/2013/10/07/nhl-locked-bathr...             0.456145  \n",
       "http://mashable.com/2014/04/16/kfc-double-down/                0.300000  \n",
       "http://mashable.com/2013/11/07/thorium-power-ev...             0.408417  \n",
       "http://mashable.com/2013/03/05/kickstarter-conc...             0.435746  \n",
       "http://mashable.com/2014/06/17/united-airlines-...             0.481508  "
      ]
     },
     "execution_count": 59,
     "metadata": {},
     "output_type": "execute_result"
    }
   ],
   "source": [
    "X_train, X_test, y_train, y_test = train_test_split(X, y, test_size=0.3, random_state=1) #split the data, store it into different variables\n",
    "X_train.head(10) #The train data #testset "
   ]
  },
  {
   "cell_type": "markdown",
   "metadata": {},
   "source": [
    "### From the dataset 30% is seperated from the dataset, I will train my model on the 70%"
   ]
  },
  {
   "cell_type": "code",
   "execution_count": 60,
   "metadata": {},
   "outputs": [],
   "source": [
    "lm = LinearRegression() #create the model\n",
    "model = lm.fit(X_train, y_train) #train the model"
   ]
  },
  {
   "cell_type": "code",
   "execution_count": 61,
   "metadata": {},
   "outputs": [
    {
     "data": {
      "text/html": [
       "<div>\n",
       "<style scoped>\n",
       "    .dataframe tbody tr th:only-of-type {\n",
       "        vertical-align: middle;\n",
       "    }\n",
       "\n",
       "    .dataframe tbody tr th {\n",
       "        vertical-align: top;\n",
       "    }\n",
       "\n",
       "    .dataframe thead th {\n",
       "        text-align: right;\n",
       "    }\n",
       "</style>\n",
       "<table border=\"1\" class=\"dataframe\">\n",
       "  <thead>\n",
       "    <tr style=\"text-align: right;\">\n",
       "      <th></th>\n",
       "      <th>0</th>\n",
       "    </tr>\n",
       "  </thead>\n",
       "  <tbody>\n",
       "    <tr>\n",
       "      <td>-0.002611</td>\n",
       "      <td>n_tokens_title</td>\n",
       "    </tr>\n",
       "    <tr>\n",
       "      <td>0.004428</td>\n",
       "      <td>num_imgs</td>\n",
       "    </tr>\n",
       "    <tr>\n",
       "      <td>0.003609</td>\n",
       "      <td>num_videos</td>\n",
       "    </tr>\n",
       "    <tr>\n",
       "      <td>-0.000016</td>\n",
       "      <td>n_tokens_content</td>\n",
       "    </tr>\n",
       "    <tr>\n",
       "      <td>0.296838</td>\n",
       "      <td>global_subjectivity</td>\n",
       "    </tr>\n",
       "  </tbody>\n",
       "</table>\n",
       "</div>"
      ],
      "text/plain": [
       "                             0\n",
       "-0.002611       n_tokens_title\n",
       " 0.004428             num_imgs\n",
       " 0.003609           num_videos\n",
       "-0.000016     n_tokens_content\n",
       " 0.296838  global_subjectivity"
      ]
     },
     "execution_count": 61,
     "metadata": {},
     "output_type": "execute_result"
    }
   ],
   "source": [
    "coef = pd.DataFrame(X.columns.values, lm.coef_)\n",
    "coef"
   ]
  },
  {
   "cell_type": "code",
   "execution_count": 1,
   "metadata": {},
   "outputs": [],
   "source": [
    "#### Here we can see that with most varibles there is few coefficient, but with global subjectivity there is 0.29 coefficient. A value of zero indicates that there is no relationship between the two variables"
   ]
  },
  {
   "cell_type": "markdown",
   "metadata": {},
   "source": [
    "# An equation of the model (please use Markdown formulas)\n"
   ]
  },
  {
   "cell_type": "code",
   "execution_count": 81,
   "metadata": {},
   "outputs": [
    {
     "name": "stdout",
     "output_type": "stream",
     "text": [
      "The regression line is equal to y = 3.13 + 0.004X\n"
     ]
    }
   ],
   "source": [
    "b0 = lm.intercept_ #gets the intercept\n",
    "b1 = lm.coef_[1] #lm.coef_ gets a list of coefficients (excluding the intercept). [0] gets the actual number from the list\n",
    "print(f\"The regression line is equal to y = {b0:.2f} + {b1:.3f}X\") #.0f formats to 3 decimals. because 2 decmails would\n",
    "# give us a 0.00 value. 3.13 + 0.004x if a artikel contain num_imgs it adds 0.004 to share_logs"
   ]
  },
  {
   "cell_type": "code",
   "execution_count": 62,
   "metadata": {},
   "outputs": [],
   "source": [
    "y_pred = lm.predict(X_test)\n",
    "resid = y_pred - y_test"
   ]
  },
  {
   "cell_type": "markdown",
   "metadata": {},
   "source": [
    "# Plots of the relation of your selected variables with the target\n"
   ]
  },
  {
   "cell_type": "code",
   "execution_count": 63,
   "metadata": {},
   "outputs": [
    {
     "data": {
      "image/png": "[encoded data removed]",
      "text/plain": [
       "<Figure size 432x288 with 1 Axes>"
      ]
     },
     "metadata": {
      "needs_background": "light"
     },
     "output_type": "display_data"
    }
   ],
   "source": [
    "sns.scatterplot(x=y_test,y=resid,data=df)\n",
    "plt.xlabel('Factors')\n",
    "plt.ylabel('Residuals (views)')\n",
    "plt.show()"
   ]
  },
  {
   "cell_type": "markdown",
   "metadata": {},
   "source": [
    "# Comment on the linearity of those relationships\n"
   ]
  },
  {
   "cell_type": "markdown",
   "metadata": {},
   "source": [
    "#### this plot  shows that the model will only correctly on verry little occasions. Arround the 3.2 mark the model predicts correctly. As you can see this is just a verry small section. "
   ]
  },
  {
   "cell_type": "code",
   "execution_count": 64,
   "metadata": {},
   "outputs": [
    {
     "data": {
      "image/png": "[encoded data removed]",
      "text/plain": [
       "<Figure size 432x288 with 1 Axes>"
      ]
     },
     "metadata": {
      "needs_background": "light"
     },
     "output_type": "display_data"
    }
   ],
   "source": [
    "sns.scatterplot(x=y_test, y=y_pred)\n",
    "plt.xlabel('shares log')\n",
    "plt.ylabel('predicted shares log')\n",
    "plt.show()"
   ]
  },
  {
   "cell_type": "markdown",
   "metadata": {},
   "source": [
    "# Predictive power of the model (R2, RMSE)\n"
   ]
  },
  {
   "cell_type": "code",
   "execution_count": 65,
   "metadata": {},
   "outputs": [
    {
     "data": {
      "text/plain": [
       "0.017285975642393647"
      ]
     },
     "execution_count": 65,
     "metadata": {},
     "output_type": "execute_result"
    }
   ],
   "source": [
    "y_test_p = lm.predict(X_test)\n",
    "r2_score(y_test, y_test_p)"
   ]
  },
  {
   "cell_type": "markdown",
   "metadata": {},
   "source": [
    "#### predect percentage is low. The model can only declare 2% of the residuals"
   ]
  },
  {
   "cell_type": "code",
   "execution_count": 56,
   "metadata": {},
   "outputs": [
    {
     "data": {
      "text/plain": [
       "0.40033994806745177"
      ]
     },
     "execution_count": 56,
     "metadata": {},
     "output_type": "execute_result"
    }
   ],
   "source": [
    "import math\n",
    "from sklearn.metrics import mean_squared_error\n",
    "math.sqrt(mean_squared_error(y_test, y_test_p))"
   ]
  },
  {
   "cell_type": "markdown",
   "metadata": {},
   "source": [
    "# can i convert this number to the real amount of shares?"
   ]
  },
  {
   "cell_type": "code",
   "execution_count": 31,
   "metadata": {},
   "outputs": [
    {
     "data": {
      "text/plain": [
       "328.4019756056932"
      ]
     },
     "execution_count": 31,
     "metadata": {},
     "output_type": "execute_result"
    }
   ],
   "source": [
    "10**(10 **(math.sqrt(mean_squared_error(y_test, y_test_p))))"
   ]
  },
  {
   "cell_type": "code",
   "execution_count": null,
   "metadata": {},
   "outputs": [],
   "source": []
  },
  {
   "cell_type": "code",
   "execution_count": 80,
   "metadata": {},
   "outputs": [
    {
     "data": {
      "text/plain": [
       "2099.9067037624263"
      ]
     },
     "execution_count": 80,
     "metadata": {},
     "output_type": "execute_result"
    }
   ],
   "source": [
    "y = 3.3222 \n",
    "# y= 3.322 because the coef shows us that y = 3.13 \n",
    "\n",
    "10**(y)"
   ]
  },
  {
   "cell_type": "markdown",
   "metadata": {},
   "source": [
    "### we tryed to convert the log to acctual number of shares, however we are still uncertain if this is the correct way. But this number should indicate the minimum amount of shares ( the intercept)"
   ]
  },
  {
   "cell_type": "code",
   "execution_count": null,
   "metadata": {},
   "outputs": [],
   "source": []
  }
 ],
 "metadata": {
  "kernelspec": {
   "display_name": "Python 3",
   "language": "python",
   "name": "python3"
  },
  "language_info": {
   "codemirror_mode": {
    "name": "ipython",
    "version": 3
   },
   "file_extension": ".py",
   "mimetype": "text/x-python",
   "name": "python",
   "nbconvert_exporter": "python",
   "pygments_lexer": "ipython3",
   "version": "3.7.3"
  }
 },
 "nbformat": 4,
 "nbformat_minor": 4
}
