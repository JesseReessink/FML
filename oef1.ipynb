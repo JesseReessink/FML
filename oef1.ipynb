{
 "cells": [
  {
   "cell_type": "markdown",
   "metadata": {},
   "source": [
    "## Data cleaning"
   ]
  },
  {
   "cell_type": "code",
   "execution_count": null,
   "metadata": {},
   "outputs": [],
   "source": []
  },
  {
   "cell_type": "markdown",
   "metadata": {},
   "source": [
    "Data cleaning is something data scientists spend a lot of time on. The problem with teaching data cleaning is that the problems you will face are incredibly diverse. In this Notebook you will just see a few issues. Excellent (much better, to be honest) overviews can be found [here](https://realpython.com/python-data-cleaning-numpy-pandas/) or [here](https://www.tutorialspoint.com/python/python_data_cleansing.htm). This Notebook will contain most information you will need for the first Assignment, however.\n",
    "\n",
    "Let's start with a common situation you might face: you have data that are distributed among two files. I'm using a selection from a data set on [Google Play apps](https://www.kaggle.com/lava18/google-play-store-apps/home). "
   ]
  },
  {
   "cell_type": "code",
   "execution_count": 2,
   "metadata": {},
   "outputs": [
    {
     "data": {
      "text/html": [
       "<div>\n",
       "<style scoped>\n",
       "    .dataframe tbody tr th:only-of-type {\n",
       "        vertical-align: middle;\n",
       "    }\n",
       "\n",
       "    .dataframe tbody tr th {\n",
       "        vertical-align: top;\n",
       "    }\n",
       "\n",
       "    .dataframe thead th {\n",
       "        text-align: right;\n",
       "    }\n",
       "</style>\n",
       "<table border=\"1\" class=\"dataframe\">\n",
       "  <thead>\n",
       "    <tr style=\"text-align: right;\">\n",
       "      <th></th>\n",
       "      <th>id</th>\n",
       "      <th>20-6-2013</th>\n",
       "      <th>21-6-2013</th>\n",
       "      <th>22-6-2013</th>\n",
       "      <th>23-6-2013</th>\n",
       "      <th>24-6-2013</th>\n",
       "      <th>25-6-2013</th>\n",
       "      <th>26-6-2013</th>\n",
       "      <th>27-6-2013</th>\n",
       "      <th>28-6-2013</th>\n",
       "      <th>...</th>\n",
       "      <th>4-5-2014</th>\n",
       "      <th>5-5-2014</th>\n",
       "      <th>6-5-2014</th>\n",
       "      <th>7-5-2014</th>\n",
       "      <th>8-5-2014</th>\n",
       "      <th>9-5-2014</th>\n",
       "      <th>10-5-2014</th>\n",
       "      <th>11-5-2014</th>\n",
       "      <th>12-5-2014</th>\n",
       "      <th>13-5-2014</th>\n",
       "    </tr>\n",
       "  </thead>\n",
       "  <tbody>\n",
       "    <tr>\n",
       "      <td>0</td>\n",
       "      <td>1</td>\n",
       "      <td>NaN</td>\n",
       "      <td>NaN</td>\n",
       "      <td>NaN</td>\n",
       "      <td>NaN</td>\n",
       "      <td>NaN</td>\n",
       "      <td>NaN</td>\n",
       "      <td>NaN</td>\n",
       "      <td>NaN</td>\n",
       "      <td>NaN</td>\n",
       "      <td>...</td>\n",
       "      <td>NaN</td>\n",
       "      <td>NaN</td>\n",
       "      <td>NaN</td>\n",
       "      <td>NaN</td>\n",
       "      <td>NaN</td>\n",
       "      <td>NaN</td>\n",
       "      <td>NaN</td>\n",
       "      <td>NaN</td>\n",
       "      <td>NaN</td>\n",
       "      <td>NaN</td>\n",
       "    </tr>\n",
       "    <tr>\n",
       "      <td>1</td>\n",
       "      <td>2</td>\n",
       "      <td>NaN</td>\n",
       "      <td>NaN</td>\n",
       "      <td>NaN</td>\n",
       "      <td>NaN</td>\n",
       "      <td>NaN</td>\n",
       "      <td>641.0</td>\n",
       "      <td>4045.0</td>\n",
       "      <td>2310.0</td>\n",
       "      <td>2480.0</td>\n",
       "      <td>...</td>\n",
       "      <td>NaN</td>\n",
       "      <td>NaN</td>\n",
       "      <td>NaN</td>\n",
       "      <td>NaN</td>\n",
       "      <td>NaN</td>\n",
       "      <td>NaN</td>\n",
       "      <td>NaN</td>\n",
       "      <td>NaN</td>\n",
       "      <td>NaN</td>\n",
       "      <td>NaN</td>\n",
       "    </tr>\n",
       "    <tr>\n",
       "      <td>2</td>\n",
       "      <td>3</td>\n",
       "      <td>NaN</td>\n",
       "      <td>NaN</td>\n",
       "      <td>NaN</td>\n",
       "      <td>NaN</td>\n",
       "      <td>NaN</td>\n",
       "      <td>NaN</td>\n",
       "      <td>NaN</td>\n",
       "      <td>NaN</td>\n",
       "      <td>NaN</td>\n",
       "      <td>...</td>\n",
       "      <td>NaN</td>\n",
       "      <td>NaN</td>\n",
       "      <td>NaN</td>\n",
       "      <td>NaN</td>\n",
       "      <td>NaN</td>\n",
       "      <td>NaN</td>\n",
       "      <td>NaN</td>\n",
       "      <td>NaN</td>\n",
       "      <td>NaN</td>\n",
       "      <td>NaN</td>\n",
       "    </tr>\n",
       "    <tr>\n",
       "      <td>3</td>\n",
       "      <td>4</td>\n",
       "      <td>NaN</td>\n",
       "      <td>NaN</td>\n",
       "      <td>25.0</td>\n",
       "      <td>4067.0</td>\n",
       "      <td>7192.0</td>\n",
       "      <td>154.0</td>\n",
       "      <td>8674.0</td>\n",
       "      <td>8275.0</td>\n",
       "      <td>850.0</td>\n",
       "      <td>...</td>\n",
       "      <td>NaN</td>\n",
       "      <td>NaN</td>\n",
       "      <td>NaN</td>\n",
       "      <td>NaN</td>\n",
       "      <td>NaN</td>\n",
       "      <td>NaN</td>\n",
       "      <td>NaN</td>\n",
       "      <td>NaN</td>\n",
       "      <td>NaN</td>\n",
       "      <td>NaN</td>\n",
       "    </tr>\n",
       "    <tr>\n",
       "      <td>4</td>\n",
       "      <td>5</td>\n",
       "      <td>NaN</td>\n",
       "      <td>NaN</td>\n",
       "      <td>NaN</td>\n",
       "      <td>NaN</td>\n",
       "      <td>NaN</td>\n",
       "      <td>NaN</td>\n",
       "      <td>NaN</td>\n",
       "      <td>NaN</td>\n",
       "      <td>NaN</td>\n",
       "      <td>...</td>\n",
       "      <td>NaN</td>\n",
       "      <td>NaN</td>\n",
       "      <td>NaN</td>\n",
       "      <td>NaN</td>\n",
       "      <td>NaN</td>\n",
       "      <td>NaN</td>\n",
       "      <td>NaN</td>\n",
       "      <td>NaN</td>\n",
       "      <td>NaN</td>\n",
       "      <td>NaN</td>\n",
       "    </tr>\n",
       "  </tbody>\n",
       "</table>\n",
       "<p>5 rows × 329 columns</p>\n",
       "</div>"
      ],
      "text/plain": [
       "   id  20-6-2013  21-6-2013  22-6-2013  23-6-2013  24-6-2013  25-6-2013  \\\n",
       "0   1        NaN        NaN        NaN        NaN        NaN        NaN   \n",
       "1   2        NaN        NaN        NaN        NaN        NaN      641.0   \n",
       "2   3        NaN        NaN        NaN        NaN        NaN        NaN   \n",
       "3   4        NaN        NaN       25.0     4067.0     7192.0      154.0   \n",
       "4   5        NaN        NaN        NaN        NaN        NaN        NaN   \n",
       "\n",
       "   26-6-2013  27-6-2013  28-6-2013  ...  4-5-2014  5-5-2014  6-5-2014  \\\n",
       "0        NaN        NaN        NaN  ...       NaN       NaN       NaN   \n",
       "1     4045.0     2310.0     2480.0  ...       NaN       NaN       NaN   \n",
       "2        NaN        NaN        NaN  ...       NaN       NaN       NaN   \n",
       "3     8674.0     8275.0      850.0  ...       NaN       NaN       NaN   \n",
       "4        NaN        NaN        NaN  ...       NaN       NaN       NaN   \n",
       "\n",
       "   7-5-2014  8-5-2014  9-5-2014  10-5-2014  11-5-2014  12-5-2014  13-5-2014  \n",
       "0       NaN       NaN       NaN        NaN        NaN        NaN        NaN  \n",
       "1       NaN       NaN       NaN        NaN        NaN        NaN        NaN  \n",
       "2       NaN       NaN       NaN        NaN        NaN        NaN        NaN  \n",
       "3       NaN       NaN       NaN        NaN        NaN        NaN        NaN  \n",
       "4       NaN       NaN       NaN        NaN        NaN        NaN        NaN  \n",
       "\n",
       "[5 rows x 329 columns]"
      ]
     },
     "execution_count": 2,
     "metadata": {},
     "output_type": "execute_result"
    }
   ],
   "source": [
    "import seaborn as sns #this is the plotting library I'll be using \n",
    "import pandas as pd #\"as pd\" means that we can use the abbreviation in commands\n",
    "import matplotlib.pyplot as plt #we need Matplotlib for setting the labels in the Seaborn graphs\n",
    "\n",
    "df1 = pd.read_csv('steps_data.csv', delimiter = ';')\n",
    "df1.head()"
   ]
  },
  {
   "cell_type": "code",
   "execution_count": 4,
   "metadata": {},
   "outputs": [
    {
     "data": {
      "text/html": [
       "<div>\n",
       "<style scoped>\n",
       "    .dataframe tbody tr th:only-of-type {\n",
       "        vertical-align: middle;\n",
       "    }\n",
       "\n",
       "    .dataframe tbody tr th {\n",
       "        vertical-align: top;\n",
       "    }\n",
       "\n",
       "    .dataframe thead th {\n",
       "        text-align: right;\n",
       "    }\n",
       "</style>\n",
       "<table border=\"1\" class=\"dataframe\">\n",
       "  <thead>\n",
       "    <tr style=\"text-align: right;\">\n",
       "      <th></th>\n",
       "      <th>id</th>\n",
       "      <th>city</th>\n",
       "      <th>gender</th>\n",
       "      <th>age</th>\n",
       "      <th>hh_size</th>\n",
       "      <th>hh_type</th>\n",
       "      <th>education</th>\n",
       "      <th>height</th>\n",
       "      <th>weight</th>\n",
       "      <th>waist</th>\n",
       "    </tr>\n",
       "  </thead>\n",
       "  <tbody>\n",
       "    <tr>\n",
       "      <td>0</td>\n",
       "      <td>1</td>\n",
       "      <td>Montpellier</td>\n",
       "      <td>male</td>\n",
       "      <td>25-34</td>\n",
       "      <td>2</td>\n",
       "      <td>couple</td>\n",
       "      <td>master or doctorate</td>\n",
       "      <td>183.0</td>\n",
       "      <td>62.0</td>\n",
       "      <td>78.0</td>\n",
       "    </tr>\n",
       "    <tr>\n",
       "      <td>1</td>\n",
       "      <td>2</td>\n",
       "      <td>Montpellier</td>\n",
       "      <td>female</td>\n",
       "      <td>25-34</td>\n",
       "      <td>2</td>\n",
       "      <td>couple</td>\n",
       "      <td>high school</td>\n",
       "      <td>163.0</td>\n",
       "      <td>60.0</td>\n",
       "      <td>75.0</td>\n",
       "    </tr>\n",
       "    <tr>\n",
       "      <td>2</td>\n",
       "      <td>3</td>\n",
       "      <td>Lyon</td>\n",
       "      <td>female</td>\n",
       "      <td>25-34</td>\n",
       "      <td>2</td>\n",
       "      <td>couple</td>\n",
       "      <td>master or doctorate</td>\n",
       "      <td>172.0</td>\n",
       "      <td>65.0</td>\n",
       "      <td>60.0</td>\n",
       "    </tr>\n",
       "    <tr>\n",
       "      <td>3</td>\n",
       "      <td>4</td>\n",
       "      <td>Lyon</td>\n",
       "      <td>male</td>\n",
       "      <td>25-34</td>\n",
       "      <td>3</td>\n",
       "      <td>single parent</td>\n",
       "      <td>bachelor</td>\n",
       "      <td>182.0</td>\n",
       "      <td>85.0</td>\n",
       "      <td>95.0</td>\n",
       "    </tr>\n",
       "    <tr>\n",
       "      <td>4</td>\n",
       "      <td>5</td>\n",
       "      <td>Bordeaux</td>\n",
       "      <td>male</td>\n",
       "      <td>25-34</td>\n",
       "      <td>2</td>\n",
       "      <td>couple</td>\n",
       "      <td>master or doctorate</td>\n",
       "      <td>177.0</td>\n",
       "      <td>70.0</td>\n",
       "      <td>81.0</td>\n",
       "    </tr>\n",
       "  </tbody>\n",
       "</table>\n",
       "</div>"
      ],
      "text/plain": [
       "   id         city  gender    age  hh_size        hh_type  \\\n",
       "0   1  Montpellier    male  25-34        2         couple   \n",
       "1   2  Montpellier  female  25-34        2         couple   \n",
       "2   3         Lyon  female  25-34        2         couple   \n",
       "3   4         Lyon    male  25-34        3  single parent   \n",
       "4   5     Bordeaux    male  25-34        2         couple   \n",
       "\n",
       "             education  height  weight  waist  \n",
       "0  master or doctorate   183.0    62.0   78.0  \n",
       "1          high school   163.0    60.0   75.0  \n",
       "2  master or doctorate   172.0    65.0   60.0  \n",
       "3             bachelor   182.0    85.0   95.0  \n",
       "4  master or doctorate   177.0    70.0   81.0  "
      ]
     },
     "execution_count": 4,
     "metadata": {},
     "output_type": "execute_result"
    }
   ],
   "source": [
    "df2 = pd.read_csv('survey_data.csv')\n",
    "df2.head()"
   ]
  },
  {
   "cell_type": "code",
   "execution_count": null,
   "metadata": {},
   "outputs": [],
   "source": [
    "As we can see, the two files share an identifier variable, *app*. You can join two dataframes using the Pandas `merge` function."
   ]
  },
  {
   "cell_type": "code",
   "execution_count": 5,
   "metadata": {},
   "outputs": [
    {
     "data": {
      "text/html": [
       "<div>\n",
       "<style scoped>\n",
       "    .dataframe tbody tr th:only-of-type {\n",
       "        vertical-align: middle;\n",
       "    }\n",
       "\n",
       "    .dataframe tbody tr th {\n",
       "        vertical-align: top;\n",
       "    }\n",
       "\n",
       "    .dataframe thead th {\n",
       "        text-align: right;\n",
       "    }\n",
       "</style>\n",
       "<table border=\"1\" class=\"dataframe\">\n",
       "  <thead>\n",
       "    <tr style=\"text-align: right;\">\n",
       "      <th></th>\n",
       "      <th>id</th>\n",
       "      <th>20-6-2013</th>\n",
       "      <th>21-6-2013</th>\n",
       "      <th>22-6-2013</th>\n",
       "      <th>23-6-2013</th>\n",
       "      <th>24-6-2013</th>\n",
       "      <th>25-6-2013</th>\n",
       "      <th>26-6-2013</th>\n",
       "      <th>27-6-2013</th>\n",
       "      <th>28-6-2013</th>\n",
       "      <th>...</th>\n",
       "      <th>13-5-2014</th>\n",
       "      <th>city</th>\n",
       "      <th>gender</th>\n",
       "      <th>age</th>\n",
       "      <th>hh_size</th>\n",
       "      <th>hh_type</th>\n",
       "      <th>education</th>\n",
       "      <th>height</th>\n",
       "      <th>weight</th>\n",
       "      <th>waist</th>\n",
       "    </tr>\n",
       "  </thead>\n",
       "  <tbody>\n",
       "    <tr>\n",
       "      <td>0</td>\n",
       "      <td>1</td>\n",
       "      <td>NaN</td>\n",
       "      <td>NaN</td>\n",
       "      <td>NaN</td>\n",
       "      <td>NaN</td>\n",
       "      <td>NaN</td>\n",
       "      <td>NaN</td>\n",
       "      <td>NaN</td>\n",
       "      <td>NaN</td>\n",
       "      <td>NaN</td>\n",
       "      <td>...</td>\n",
       "      <td>NaN</td>\n",
       "      <td>Montpellier</td>\n",
       "      <td>male</td>\n",
       "      <td>25-34</td>\n",
       "      <td>2</td>\n",
       "      <td>couple</td>\n",
       "      <td>master or doctorate</td>\n",
       "      <td>183.0</td>\n",
       "      <td>62.0</td>\n",
       "      <td>78.0</td>\n",
       "    </tr>\n",
       "    <tr>\n",
       "      <td>1</td>\n",
       "      <td>2</td>\n",
       "      <td>NaN</td>\n",
       "      <td>NaN</td>\n",
       "      <td>NaN</td>\n",
       "      <td>NaN</td>\n",
       "      <td>NaN</td>\n",
       "      <td>641.0</td>\n",
       "      <td>4045.0</td>\n",
       "      <td>2310.0</td>\n",
       "      <td>2480.0</td>\n",
       "      <td>...</td>\n",
       "      <td>NaN</td>\n",
       "      <td>Montpellier</td>\n",
       "      <td>female</td>\n",
       "      <td>25-34</td>\n",
       "      <td>2</td>\n",
       "      <td>couple</td>\n",
       "      <td>high school</td>\n",
       "      <td>163.0</td>\n",
       "      <td>60.0</td>\n",
       "      <td>75.0</td>\n",
       "    </tr>\n",
       "    <tr>\n",
       "      <td>2</td>\n",
       "      <td>3</td>\n",
       "      <td>NaN</td>\n",
       "      <td>NaN</td>\n",
       "      <td>NaN</td>\n",
       "      <td>NaN</td>\n",
       "      <td>NaN</td>\n",
       "      <td>NaN</td>\n",
       "      <td>NaN</td>\n",
       "      <td>NaN</td>\n",
       "      <td>NaN</td>\n",
       "      <td>...</td>\n",
       "      <td>NaN</td>\n",
       "      <td>Lyon</td>\n",
       "      <td>female</td>\n",
       "      <td>25-34</td>\n",
       "      <td>2</td>\n",
       "      <td>couple</td>\n",
       "      <td>master or doctorate</td>\n",
       "      <td>172.0</td>\n",
       "      <td>65.0</td>\n",
       "      <td>60.0</td>\n",
       "    </tr>\n",
       "    <tr>\n",
       "      <td>3</td>\n",
       "      <td>4</td>\n",
       "      <td>NaN</td>\n",
       "      <td>NaN</td>\n",
       "      <td>25.0</td>\n",
       "      <td>4067.0</td>\n",
       "      <td>7192.0</td>\n",
       "      <td>154.0</td>\n",
       "      <td>8674.0</td>\n",
       "      <td>8275.0</td>\n",
       "      <td>850.0</td>\n",
       "      <td>...</td>\n",
       "      <td>NaN</td>\n",
       "      <td>Lyon</td>\n",
       "      <td>male</td>\n",
       "      <td>25-34</td>\n",
       "      <td>3</td>\n",
       "      <td>single parent</td>\n",
       "      <td>bachelor</td>\n",
       "      <td>182.0</td>\n",
       "      <td>85.0</td>\n",
       "      <td>95.0</td>\n",
       "    </tr>\n",
       "    <tr>\n",
       "      <td>4</td>\n",
       "      <td>5</td>\n",
       "      <td>NaN</td>\n",
       "      <td>NaN</td>\n",
       "      <td>NaN</td>\n",
       "      <td>NaN</td>\n",
       "      <td>NaN</td>\n",
       "      <td>NaN</td>\n",
       "      <td>NaN</td>\n",
       "      <td>NaN</td>\n",
       "      <td>NaN</td>\n",
       "      <td>...</td>\n",
       "      <td>NaN</td>\n",
       "      <td>Bordeaux</td>\n",
       "      <td>male</td>\n",
       "      <td>25-34</td>\n",
       "      <td>2</td>\n",
       "      <td>couple</td>\n",
       "      <td>master or doctorate</td>\n",
       "      <td>177.0</td>\n",
       "      <td>70.0</td>\n",
       "      <td>81.0</td>\n",
       "    </tr>\n",
       "  </tbody>\n",
       "</table>\n",
       "<p>5 rows × 338 columns</p>\n",
       "</div>"
      ],
      "text/plain": [
       "   id  20-6-2013  21-6-2013  22-6-2013  23-6-2013  24-6-2013  25-6-2013  \\\n",
       "0   1        NaN        NaN        NaN        NaN        NaN        NaN   \n",
       "1   2        NaN        NaN        NaN        NaN        NaN      641.0   \n",
       "2   3        NaN        NaN        NaN        NaN        NaN        NaN   \n",
       "3   4        NaN        NaN       25.0     4067.0     7192.0      154.0   \n",
       "4   5        NaN        NaN        NaN        NaN        NaN        NaN   \n",
       "\n",
       "   26-6-2013  27-6-2013  28-6-2013  ...  13-5-2014         city  gender  \\\n",
       "0        NaN        NaN        NaN  ...        NaN  Montpellier    male   \n",
       "1     4045.0     2310.0     2480.0  ...        NaN  Montpellier  female   \n",
       "2        NaN        NaN        NaN  ...        NaN         Lyon  female   \n",
       "3     8674.0     8275.0      850.0  ...        NaN         Lyon    male   \n",
       "4        NaN        NaN        NaN  ...        NaN     Bordeaux    male   \n",
       "\n",
       "     age  hh_size        hh_type            education  height  weight  waist  \n",
       "0  25-34        2         couple  master or doctorate   183.0    62.0   78.0  \n",
       "1  25-34        2         couple          high school   163.0    60.0   75.0  \n",
       "2  25-34        2         couple  master or doctorate   172.0    65.0   60.0  \n",
       "3  25-34        3  single parent             bachelor   182.0    85.0   95.0  \n",
       "4  25-34        2         couple  master or doctorate   177.0    70.0   81.0  \n",
       "\n",
       "[5 rows x 338 columns]"
      ]
     },
     "execution_count": 5,
     "metadata": {},
     "output_type": "execute_result"
    }
   ],
   "source": [
    "df = pd.merge(df1, df2, on = 'id') #'app' is the common identifier\n",
    "df.head()"
   ]
  },
  {
   "cell_type": "markdown",
   "metadata": {},
   "source": [
    "Some problems are already apparent with this small snapshot of the data: missing values (NaN) and a possible data entry error (\"/\" for the rating for case 1). However, with big data files we will need to validate our data a lot better. There are a few functions that are handy to get a grip on the data."
   ]
  },
  {
   "cell_type": "code",
   "execution_count": 6,
   "metadata": {},
   "outputs": [
    {
     "name": "stdout",
     "output_type": "stream",
     "text": [
      "<class 'pandas.core.frame.DataFrame'>\n",
      "Int64Index: 929 entries, 0 to 928\n",
      "Columns: 338 entries, id to waist\n",
      "dtypes: float64(331), int64(2), object(5)\n",
      "memory usage: 2.4+ MB\n"
     ]
    }
   ],
   "source": [
    "df.info() #Get information on the variables"
   ]
  },
  {
   "cell_type": "markdown",
   "metadata": {},
   "source": [
    "It is already apparent that `reviews`, and `ratings` are not numeric, though they should be given the nature of the data. Let's focus on ratings and try to clean that variable"
   ]
  },
  {
   "cell_type": "code",
   "execution_count": 7,
   "metadata": {},
   "outputs": [
    {
     "data": {
      "text/plain": [
       "90.0     46\n",
       "80.0     46\n",
       "84.0     35\n",
       "83.0     32\n",
       "82.0     30\n",
       "         ..\n",
       "131.0     1\n",
       "36.0      1\n",
       "39.0      1\n",
       "35.0      1\n",
       "147.0     1\n",
       "Name: waist, Length: 85, dtype: int64"
      ]
     },
     "execution_count": 7,
     "metadata": {},
     "output_type": "execute_result"
    }
   ],
   "source": [
    "df['waist'].value_counts() #Get all the values. This may be less useful when there are many values."
   ]
  },
  {
   "cell_type": "markdown",
   "metadata": {},
   "source": [
    "There are three values that are problematic: the \"/\" we already discovered, and two ratings that are above 5.0. Let's create a new column that excludes them."
   ]
  },
  {
   "cell_type": "code",
   "execution_count": 10,
   "metadata": {},
   "outputs": [],
   "source": [
    "# The handy Pandas function to_numeric converts non-numeric data to NaN. The last argument overrides the errors\n",
    "# Python would normally generate.\n",
    "# The apply method of a dataframe lets us apply a function to all the elements.\n",
    "df['waist'] = df['waist'].apply(pd.to_numeric, errors='coerce')\n",
    "\n",
    "#To remove the values above 5 we need to create a function that we then apply to the entire column\n",
    "def above_111(x):\n",
    "    if(x > 111.0): \n",
    "        return float('NaN')\n",
    "    else: \n",
    "        return x\n",
    "df['waist'] = df['waist'].apply(above_111)\n"
   ]
  },
  {
   "cell_type": "code",
   "execution_count": 11,
   "metadata": {},
   "outputs": [
    {
     "data": {
      "text/plain": [
       "90.0    46\n",
       "80.0    46\n",
       "84.0    35\n",
       "83.0    32\n",
       "82.0    30\n",
       "        ..\n",
       "0.0      1\n",
       "35.0     1\n",
       "46.0     1\n",
       "55.0     1\n",
       "36.0     1\n",
       "Name: waist, Length: 68, dtype: int64"
      ]
     },
     "execution_count": 11,
     "metadata": {},
     "output_type": "execute_result"
    }
   ],
   "source": [
    "df['waist'].value_counts()"
   ]
  },
  {
   "cell_type": "markdown",
   "metadata": {},
   "source": [
    "Finally, we can make a plot of ratings:"
   ]
  },
  {
   "cell_type": "code",
   "execution_count": 12,
   "metadata": {},
   "outputs": [],
   "source": [
    "df['waist'] = df['waist'].apply(pd.to_numeric, errors='coerce')\n",
    "\n",
    "#To remove the values above 5 we need to create a function that we then apply to the entire column\n",
    "def below_50(x):\n",
    "    if(x < 50): \n",
    "        return float('NaN')\n",
    "    else: \n",
    "        return x\n",
    "df['waist'] = df['waist'].apply(below_50)\n"
   ]
  },
  {
   "cell_type": "code",
   "execution_count": 13,
   "metadata": {},
   "outputs": [
    {
     "data": {
      "text/plain": [
       "90.0     46\n",
       "80.0     46\n",
       "84.0     35\n",
       "83.0     32\n",
       "75.0     30\n",
       "82.0     30\n",
       "85.0     29\n",
       "95.0     28\n",
       "92.0     28\n",
       "87.0     28\n",
       "88.0     28\n",
       "100.0    26\n",
       "70.0     26\n",
       "86.0     25\n",
       "89.0     24\n",
       "76.0     23\n",
       "93.0     22\n",
       "78.0     22\n",
       "73.0     21\n",
       "77.0     18\n",
       "98.0     18\n",
       "97.0     16\n",
       "91.0     16\n",
       "74.0     15\n",
       "99.0     14\n",
       "110.0    14\n",
       "72.0     14\n",
       "65.0     14\n",
       "105.0    14\n",
       "81.0     14\n",
       "79.0     13\n",
       "101.0    12\n",
       "68.0     12\n",
       "96.0     11\n",
       "67.0     11\n",
       "94.0     11\n",
       "69.0      9\n",
       "71.0      8\n",
       "106.0     7\n",
       "60.0      7\n",
       "109.0     7\n",
       "66.0      6\n",
       "104.0     6\n",
       "103.0     6\n",
       "108.0     6\n",
       "111.0     4\n",
       "102.0     4\n",
       "62.0      4\n",
       "107.0     3\n",
       "58.0      2\n",
       "61.0      2\n",
       "64.0      2\n",
       "63.0      2\n",
       "55.0      1\n",
       "53.0      1\n",
       "56.0      1\n",
       "Name: waist, dtype: int64"
      ]
     },
     "execution_count": 13,
     "metadata": {},
     "output_type": "execute_result"
    }
   ],
   "source": [
    "df['waist'].value_counts()"
   ]
  },
  {
   "cell_type": "code",
   "execution_count": 14,
   "metadata": {},
   "outputs": [
    {
     "data": {
      "image/png": "[encoded data removed]",
      "text/plain": [
       "<Figure size 432x288 with 1 Axes>"
      ]
     },
     "metadata": {
      "needs_background": "light"
     },
     "output_type": "display_data"
    }
   ],
   "source": [
    "sns.distplot(df['waist'].dropna(), kde=False) #Selecting the rating column. I need to drop the NA's for the plot\n",
    "plt.title('GENRAL WAIST SIZE')\n",
    "plt.xlabel('Waist size (cm)')\n",
    "plt.show()"
   ]
  },
  {
   "cell_type": "code",
   "execution_count": 15,
   "metadata": {},
   "outputs": [
    {
     "data": {
      "text/plain": [
       "170.0    62\n",
       "180.0    53\n",
       "165.0    51\n",
       "175.0    50\n",
       "172.0    45\n",
       "160.0    45\n",
       "168.0    44\n",
       "178.0    36\n",
       "163.0    32\n",
       "169.0    31\n",
       "173.0    29\n",
       "162.0    29\n",
       "167.0    28\n",
       "176.0    28\n",
       "183.0    26\n",
       "182.0    25\n",
       "185.0    24\n",
       "174.0    23\n",
       "171.0    20\n",
       "177.0    19\n",
       "158.0    19\n",
       "181.0    18\n",
       "186.0    17\n",
       "187.0    16\n",
       "164.0    16\n",
       "166.0    15\n",
       "161.0    15\n",
       "179.0    13\n",
       "157.0    11\n",
       "155.0     9\n",
       "156.0     9\n",
       "188.0     9\n",
       "184.0     9\n",
       "159.0     6\n",
       "190.0     6\n",
       "192.0     5\n",
       "153.0     4\n",
       "152.0     4\n",
       "189.0     4\n",
       "154.0     4\n",
       "150.0     3\n",
       "195.0     3\n",
       "193.0     3\n",
       "151.0     3\n",
       "191.0     2\n",
       "197.0     1\n",
       "145.0     1\n",
       "Name: height, dtype: int64"
      ]
     },
     "execution_count": 15,
     "metadata": {},
     "output_type": "execute_result"
    }
   ],
   "source": [
    "df['height'].value_counts()"
   ]
  },
  {
   "cell_type": "code",
   "execution_count": 21,
   "metadata": {},
   "outputs": [
    {
     "data": {
      "image/png": "[encoded data removed]",
      "text/plain": [
       "<Figure size 432x288 with 1 Axes>"
      ]
     },
     "metadata": {
      "needs_background": "light"
     },
     "output_type": "display_data"
    }
   ],
   "source": [
    "sns.boxplot(df['height']) #Selecting the rating column. I need to drop the NA's for the plot\n",
    "plt.title('Avvarge user lenght')\n",
    "plt.xlabel('Height in (cm)')\n",
    "plt.show()"
   ]
  },
  {
   "cell_type": "code",
   "execution_count": null,
   "metadata": {},
   "outputs": [],
   "source": [
    "plt.hist(df['height']) #Selecting the rating column. I need to drop the NA's for the plot\n",
    "plt.title('average user lenght')\n",
    "plt.xlabel('Height in (cm)')\n",
    "plt.show()\n",
    "\n",
    "#boxplot shows 25% of the users left of the blue box, because one user is just 145cm it go's allot to the left\n",
    "#So this might not give the right respresentation of the total height of user. \n",
    "# in the blue box it represents 50% of the height and right of the blue blox are the top 25 % of height.\n",
    "# you can see that the average hight is about 172cm. \n",
    "\n"
   ]
  },
  {
   "cell_type": "markdown",
   "metadata": {},
   "source": [
    "This might seem like a lot of work that could be done much more easily in something like Excel. But there are  advantages going \"the hard way\":\n",
    "\n",
    "* Your analysis is reproducible: everything is transparent, no fear of losing track of your steps.\n",
    "* It works on very big data sets too.\n"
   ]
  },
  {
   "cell_type": "code",
   "execution_count": 28,
   "metadata": {},
   "outputs": [
    {
     "data": {
      "image/png": "[encoded data removed]",
      "text/plain": [
       "<Figure size 432x288 with 1 Axes>"
      ]
     },
     "metadata": {
      "needs_background": "light"
     },
     "output_type": "display_data"
    }
   ],
   "source": [
    "df[\"height\"].name = 'height' #Labeling the variable for plotting\n",
    "height_av = df[\"height\"].dropna() #Selecting the size column. I need to drop the NA's, otherwise Seaborn won't plot\n",
    "sns.distplot(height_av, kde=False)\n",
    "plt.title('height')\n",
    "plt.show()"
   ]
  },
  {
   "cell_type": "code",
   "execution_count": 29,
   "metadata": {},
   "outputs": [
    {
     "name": "stdout",
     "output_type": "stream",
     "text": [
      "The median of height is: 172.0 cm\n",
      "The mean of height is: 171.7545945945946 cm\n"
     ]
    },
    {
     "data": {
      "image/png": "[encoded data removed]",
      "text/plain": [
       "<Figure size 432x288 with 1 Axes>"
      ]
     },
     "metadata": {
      "needs_background": "light"
     },
     "output_type": "display_data"
    }
   ],
   "source": [
    "mean_size = df[\"height\"].mean()\n",
    "median_size = df[\"height\"].median()\n",
    "print(f'The median of height is: {median_size} cm')\n",
    "print(f'The mean of height is: {mean_size} cm')\n",
    "sns.distplot(height_av, kde=False)\n",
    "plt.title('Height of id')\n",
    "plt.axvline(median_size, 0, 100, color='green', label='median') #This adds a vertical line at x-position median_size, from y = 0 to y = 100\n",
    "plt.axvline(mean_size, 0, 100, color='blue', label='mean')\n",
    "plt.legend() #This adds a legend. It works automatically because I've set the labels in the previous lines\n",
    "plt.show()"
   ]
  },
  {
   "cell_type": "code",
   "execution_count": null,
   "metadata": {},
   "outputs": [],
   "source": [
    "# in the histogram you can see a strange gab between 170cm and arround 180cm. I think this is because of the diffrence\n",
    "#between man and women \n",
    "# the median and mean are almust simulair, this was to expect becuase the diffrences between the hights hight and the \n",
    "#lowest hight don't differ all that mutch, for exmaple a sallary can be 20.000$ a year or 1.000.000$ than you would have\n",
    "# way more difference between the values. "
   ]
  }
 ],
 "metadata": {
  "kernelspec": {
   "display_name": "Python 3",
   "language": "python",
   "name": "python3"
  },
  "language_info": {
   "codemirror_mode": {
    "name": "ipython",
    "version": 3
   },
   "file_extension": ".py",
   "mimetype": "text/x-python",
   "name": "python",
   "nbconvert_exporter": "python",
   "pygments_lexer": "ipython3",
   "version": "3.7.3"
  }
 },
 "nbformat": 4,
 "nbformat_minor": 2
}
